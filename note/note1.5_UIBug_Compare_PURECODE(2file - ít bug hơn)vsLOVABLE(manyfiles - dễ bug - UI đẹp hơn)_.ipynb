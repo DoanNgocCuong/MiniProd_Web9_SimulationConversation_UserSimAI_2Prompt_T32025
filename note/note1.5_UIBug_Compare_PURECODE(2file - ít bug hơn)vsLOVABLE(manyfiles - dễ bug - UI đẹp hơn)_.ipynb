{
 "cells": [
  {
   "cell_type": "markdown",
   "metadata": {},
   "source": [
    "note1.5_UIBug_Compare_PURECODE(2file - ít bug hơn)vsLOVABLE(manyfiles - dễ bug - UI đẹp hơn)_"
   ]
  },
  {
   "cell_type": "markdown",
   "metadata": {},
   "source": [
    "Đang bị lỗi thư viện gì ? Bỏ vite đi ko dùng vite chỉ dùng TSX/JSX và TypeScripts thôi"
   ]
  },
  {
   "cell_type": "markdown",
   "metadata": {},
   "source": [
    "## Đổi sang PureCode cái --- Chả bug gì nữa -))\n",
    "Vì frontend nó có mỗi: App.js, và index.html (ngoài ra thêm Dockerfile và nginx.conf)"
   ]
  }
 ],
 "metadata": {
  "language_info": {
   "name": "python"
  }
 },
 "nbformat": 4,
 "nbformat_minor": 2
}
