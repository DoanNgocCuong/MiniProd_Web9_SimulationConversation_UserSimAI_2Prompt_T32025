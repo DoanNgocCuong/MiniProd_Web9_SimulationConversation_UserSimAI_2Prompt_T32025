{
 "cells": [
  {
   "cell_type": "markdown",
   "metadata": {},
   "source": [
    "Kết hợp@backend và @frontend xem ổn chưa \n",
    "\n",
    "System\n",
    "Error: Không thể khởi tạo cuộc hội thoại với Bot ID: 105. Yêu cầu hết thời gian chờ Vui lòng sử dụng Bot ID 16 đã được xác nhận hoạt động.\n",
    "\n",
    "======\n",
    "Mình đoán là khi Frontend call tới Backend thì phải đợi Backend gen ra 1 loạt hội thoại có khi mất vài phút. Lúc này bên Frontend call sẽ bị out of time. \n",
    "\n",
    "ĐỀ XUẤT GIẢI PHÁP ĐI? "
   ]
  }
 ],
 "metadata": {
  "language_info": {
   "name": "python"
  }
 },
 "nbformat": 4,
 "nbformat_minor": 2
}
